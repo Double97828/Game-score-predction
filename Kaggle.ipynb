{
 "cells": [
  {
   "cell_type": "code",
   "execution_count": 248,
   "metadata": {},
   "outputs": [],
   "source": [
    "import math\n",
    "import numpy as np\n",
    "import sys\n",
    "import random\n",
    "import csv\n",
    "from sklearn import model_selection\n",
    "from xgboost import XGBClassifier\n",
    "from xgboost import plot_importance\n",
    "from numpy import loadtxt\n",
    "from matplotlib import pyplot\n",
    "random.seed(0)"
   ]
  },
  {
   "cell_type": "code",
   "execution_count": 249,
   "metadata": {},
   "outputs": [],
   "source": [
    "def test_data(id):\n",
    "    f = open(id)\n",
    "    reader = csv.reader(f)\n",
    "    result_x = []\n",
    "    result_y = []\n",
    "    for row in reader:\n",
    "        if row[0] == 'id':\n",
    "            continue\n",
    "        result_x.append([elem if elem.isdigit() else len(elem) for elem in row[:-1]])\n",
    "        result_y.append(float(row[-1]))\n",
    "    f.close()\n",
    "    result_x = [[float(elem) for elem in row] for row in result_x]\n",
    "    return np.array(result_x),np.array(result_y)"
   ]
  },
  {
   "cell_type": "code",
   "execution_count": 250,
   "metadata": {},
   "outputs": [],
   "source": [
    "X,y = test_data('train.csv')"
   ]
  },
  {
   "cell_type": "code",
   "execution_count": 251,
   "metadata": {},
   "outputs": [
    {
     "data": {
      "image/png": "[encoded data removed]",
      "text/plain": [
       "<Figure size 432x288 with 1 Axes>"
      ]
     },
     "metadata": {
      "needs_background": "light"
     },
     "output_type": "display_data"
    }
   ],
   "source": [
    "train_X, test_X, train_y, test_y = model_selection.train_test_split(X, y, test_size=0.25,random_state=1)\n",
    "clf = XGBClassifier(max_depth=6,learning_rate=0.03, n_estimators=130,subsample=0.80,colsample_bytree=0.9)\n",
    "clf = clf.fit(train_X, train_y)\n",
    "plot_importance(clf)\n",
    "pyplot.show()"
   ]
  },
  {
   "cell_type": "code",
   "execution_count": 252,
   "metadata": {},
   "outputs": [],
   "source": [
    "#most important features\n",
    "# [25,31,28,0,10,27,5,7,6,29,14,30,11,1,2,15,17,16,21,13, 24,22,20,12,4,19,23,18,3]"
   ]
  },
  {
   "cell_type": "code",
   "execution_count": 253,
   "metadata": {},
   "outputs": [],
   "source": [
    "def read_data(id):\n",
    "    f = open(id)\n",
    "    reader = csv.reader(f)\n",
    "    result_x = []\n",
    "    result_y = []\n",
    "    for row in reader:\n",
    "        if row[0] == 'id':\n",
    "            continue\n",
    "        n = [elem if elem.isdigit() else len(elem) for elem in row]\n",
    "        result_x.append(row[:3]+ row[5:8] +row[10:18]+ row[21:22] + row[24:-1])\n",
    "        result_y.append(float(row[-1]))\n",
    "    f.close()\n",
    "    result_x = [[float(elem) if elem.isdigit() else len(elem) for elem in row] for row in result_x]\n",
    "    return np.array(result_x),np.array(result_y)"
   ]
  },
  {
   "cell_type": "code",
   "execution_count": 254,
   "metadata": {},
   "outputs": [],
   "source": [
    "X,y = read_data('train.csv')"
   ]
  },
  {
   "cell_type": "code",
   "execution_count": 255,
   "metadata": {},
   "outputs": [
    {
     "name": "stdout",
     "output_type": "stream",
     "text": [
      "0.9318388919263714\n"
     ]
    }
   ],
   "source": [
    "train_X, test_X, train_y, test_y = model_selection.train_test_split(X, y, test_size=0.25,random_state=1)\n",
    "model = XGBClassifier(max_depth=6,learning_rate=0.03, n_estimators=130,subsample=0.80,colsample_bytree=0.9)\n",
    "model = model.fit(train_X, train_y)\n",
    "predict = model.predict(test_X)\n",
    "prediction = [round(value) for value in predict]\n",
    "n = len(test_y)\n",
    "right = 0\n",
    "for i in range(0,n):\n",
    "    if (prediction[i] == test_y[i]):\n",
    "        right +=1\n",
    "print(right/n)#0.942409331146346"
   ]
  },
  {
   "cell_type": "code",
   "execution_count": 256,
   "metadata": {},
   "outputs": [],
   "source": [
    "model = model.fit(X, y)"
   ]
  },
  {
   "cell_type": "code",
   "execution_count": 257,
   "metadata": {},
   "outputs": [],
   "source": [
    "f_final = open('test.csv')\n",
    "reader_final = csv.reader(f_final)\n",
    "final_x = []\n",
    "final_id = []\n",
    "count = 0\n",
    "for row in reader_final:\n",
    "    count +=1 \n",
    "    if row[0] == 'id':\n",
    "        continue\n",
    "    final_id.append(row[0])\n",
    "    final_x.append(row[:3]+ row[5:8] +row[10:18]+ row[21:22] + row[24:])\n",
    "\n",
    "f_final.close()\n",
    "final_x = [[float(elem) if elem.isdigit() else len(elem) for elem in row] for row in final_x]\n",
    "get_x = np.array(final_x)\n",
    "get_id = np.array(final_id)"
   ]
  },
  {
   "cell_type": "code",
   "execution_count": 258,
   "metadata": {},
   "outputs": [],
   "source": [
    "get_y = [str(int(round(elem))) for elem in model.predict(get_x)]\n",
    "new =[]\n",
    "new =[['id','label']]\n",
    "for i in range(len(get_y)):\n",
    "    new.append([get_id[i],get_y[i]])\n",
    "new = np.array(new)\n",
    "np.savetxt(\"final.csv\",new,fmt='%s',delimiter=\",\")"
   ]
  },
  {
   "cell_type": "code",
   "execution_count": null,
   "metadata": {},
   "outputs": [],
   "source": []
  },
  {
   "cell_type": "code",
   "execution_count": null,
   "metadata": {},
   "outputs": [],
   "source": []
  }
 ],
 "metadata": {
  "kernelspec": {
   "display_name": "Python 3",
   "language": "python",
   "name": "python3"
  },
  "language_info": {
   "codemirror_mode": {
    "name": "ipython",
    "version": 3
   },
   "file_extension": ".py",
   "mimetype": "text/x-python",
   "name": "python",
   "nbconvert_exporter": "python",
   "pygments_lexer": "ipython3",
   "version": "3.8.5"
  }
 },
 "nbformat": 4,
 "nbformat_minor": 4
}
